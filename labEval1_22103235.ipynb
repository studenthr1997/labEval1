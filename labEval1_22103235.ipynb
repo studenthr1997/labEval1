{
 "cells": [
  {
   "cell_type": "code",
   "execution_count": 24,
   "id": "1812a023",
   "metadata": {},
   "outputs": [],
   "source": [
    "import numpy as np"
   ]
  },
  {
   "cell_type": "markdown",
   "id": "9ed6a5b8",
   "metadata": {},
   "source": [
    "## Lab Eval Harshal Relan 22103235"
   ]
  },
  {
   "cell_type": "code",
   "execution_count": 42,
   "id": "66659a0a",
   "metadata": {},
   "outputs": [],
   "source": [
    "student_info={}"
   ]
  },
  {
   "cell_type": "code",
   "execution_count": 43,
   "id": "b1ab475c",
   "metadata": {},
   "outputs": [],
   "source": [
    "def add_student(student_info,name,class_num,grades):\n",
    "    student_id=np.random.randint(100000,1000000,1)\n",
    "    student_info[student_id[0]]=[name,class_num,grades]\n",
    "    return student_info"
   ]
  },
  {
   "cell_type": "code",
   "execution_count": 44,
   "id": "abad12c9",
   "metadata": {},
   "outputs": [],
   "source": [
    "def update_grades(student_info,student_id,new_grades):\n",
    "    print(student_id,student_info[student_id])\n",
    "    print(student_info[student_id][2])\n",
    "    if student_id in student_info:\n",
    "        student_info[student_id][2]=grades\n",
    "    return student_info"
   ]
  },
  {
   "cell_type": "code",
   "execution_count": 56,
   "id": "7061adc8",
   "metadata": {},
   "outputs": [],
   "source": [
    "def calculate_avg(student_info,student_id):\n",
    "    if student_id in student_info:\n",
    "        num=0\n",
    "        for i in student_info[student_id][2]:\n",
    "            num+=int(i)\n",
    "        return num/len(student_info[student_id][2])\n",
    "    else:\n",
    "        return -1"
   ]
  },
  {
   "cell_type": "code",
   "execution_count": 46,
   "id": "8df602ef",
   "metadata": {},
   "outputs": [],
   "source": [
    "def generate_top_students_report(student_info):\n",
    "    highest_grade=0\n",
    "    topper_id=0\n",
    "    for key,value in student_info.items():\n",
    "        avg_grade=calculate_avg(student_info,key)\n",
    "        if avg_grade > highest_grade:\n",
    "            highest_grade=avg_grade\n",
    "            topper_id=key\n",
    "    return student_info[topper_id]"
   ]
  },
  {
   "cell_type": "code",
   "execution_count": 57,
   "id": "6b1fe35d",
   "metadata": {},
   "outputs": [
    {
     "name": "stdout",
     "output_type": "stream",
     "text": [
      "Enter the name of the studentYash\n",
      "Enter the batch num of the studentB0\n",
      "Enter grade for subj 1 5\n",
      "Enter grade for subj 2 6\n",
      "Enter grade for subj 3 4\n",
      "Enter grade for subj 4 6\n",
      "Enter grade for subj 5 5\n",
      "{386291: ['Harshal', 'B8', [8, 8, 9, 9, 8]], 321357: ['Mittal', '9', [8, 9, 9, 8, 7]], 765115: ['Sai', '9', [9, 9, 9, 9, 8]], 995077: ['Bhati', '7', [8, 7, 7, 6, 9]], 449940: ['Yash', 'B0', [5, 6, 4, 6, 5]]}\n"
     ]
    }
   ],
   "source": [
    "   \n",
    "name=input(\"Enter the name of the student\")\n",
    "class_num=input(\"Enter the batch num of the student\")\n",
    "grade1=int(input(\"Enter grade for subj 1 \"))\n",
    "grade2=int(input(\"Enter grade for subj 2 \"))\n",
    "grade3=int(input(\"Enter grade for subj 3 \"))\n",
    "grade4=int(input(\"Enter grade for subj 4 \"))\n",
    "grade5=int(input(\"Enter grade for subj 5 \"))\n",
    "grades=[grade1,grade2,grade3,grade4,grade5]\n",
    "student_info=add_student(student_info,name,class_num,grades)\n",
    "print(student_info)"
   ]
  },
  {
   "cell_type": "code",
   "execution_count": 58,
   "id": "c1fdfffc",
   "metadata": {},
   "outputs": [
    {
     "name": "stdout",
     "output_type": "stream",
     "text": [
      "Enter student id for whom new grades are required 449940\n",
      "Enter grade for subj 1 7\n",
      "Enter grade for subj 2 8\n",
      "Enter grade for subj 3 4\n",
      "Enter grade for subj 4 6\n",
      "Enter grade for subj 5 8\n",
      "449940 ['Yash', 'B0', [5, 6, 4, 6, 5]]\n",
      "[5, 6, 4, 6, 5]\n",
      "{386291: ['Harshal', 'B8', [8, 8, 9, 9, 8]], 321357: ['Mittal', '9', [8, 9, 9, 8, 7]], 765115: ['Sai', '9', [9, 9, 9, 9, 8]], 995077: ['Bhati', '7', [8, 7, 7, 6, 9]], 449940: ['Yash', 'B0', [7, 8, 4, 6, 8]]}\n"
     ]
    }
   ],
   "source": [
    "new_id=input(\"Enter student id for whom new grades are required \")\n",
    "new_id=int(new_id)\n",
    "grade1=int(input(\"Enter grade for subj 1 \"))\n",
    "grade2=int(input(\"Enter grade for subj 2 \"))\n",
    "grade3=int(input(\"Enter grade for subj 3 \"))\n",
    "grade4=int(input(\"Enter grade for subj 4 \"))\n",
    "grade5=int(input(\"Enter grade for subj 5 \"))\n",
    "grades=[grade1,grade2,grade3,grade4,grade5]\n",
    "student_info=update_grades(student_info,new_id,grades)\n",
    "print(student_info)"
   ]
  },
  {
   "cell_type": "code",
   "execution_count": 59,
   "id": "a396ab2a",
   "metadata": {},
   "outputs": [
    {
     "name": "stdout",
     "output_type": "stream",
     "text": [
      "Enter student id for whose abg is required:449940\n",
      "6.6\n"
     ]
    }
   ],
   "source": [
    "new_id=input(\"Enter student id for whose abg is required:\")\n",
    "new_id=int(new_id)\n",
    "avg_grade=calculate_avg(student_info,new_id)\n",
    "print(avg_grade)"
   ]
  },
  {
   "cell_type": "code",
   "execution_count": 60,
   "id": "51d2f175",
   "metadata": {},
   "outputs": [
    {
     "name": "stdout",
     "output_type": "stream",
     "text": [
      "['Sai', '9', [9, 9, 9, 9, 8]]\n"
     ]
    }
   ],
   "source": [
    "topper=generate_top_students_report(student_info)\n",
    "print(topper)"
   ]
  },
  {
   "cell_type": "code",
   "execution_count": null,
   "id": "4a961207",
   "metadata": {},
   "outputs": [],
   "source": []
  }
 ],
 "metadata": {
  "kernelspec": {
   "display_name": "Python 3 (ipykernel)",
   "language": "python",
   "name": "python3"
  },
  "language_info": {
   "codemirror_mode": {
    "name": "ipython",
    "version": 3
   },
   "file_extension": ".py",
   "mimetype": "text/x-python",
   "name": "python",
   "nbconvert_exporter": "python",
   "pygments_lexer": "ipython3",
   "version": "3.11.5"
  }
 },
 "nbformat": 4,
 "nbformat_minor": 5
}
